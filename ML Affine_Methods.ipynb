{
 "cells": [
  {
   "cell_type": "code",
   "execution_count": 1,
   "id": "f80e59aa-26f7-4c69-aded-07dc9437f947",
   "metadata": {},
   "outputs": [],
   "source": [
    "import numpy as np\n",
    "import cv2"
   ]
  },
  {
   "cell_type": "code",
   "execution_count": 2,
   "id": "ae747351-7116-4461-8b34-4f50d5a004ba",
   "metadata": {},
   "outputs": [],
   "source": [
    "image=cv2.imread(r\"C:\\Users\\DELL\\Downloads\\cat-dog-elephant\\elephant\\elephantelephant887.jpg\")"
   ]
  },
  {
   "cell_type": "code",
   "execution_count": 4,
   "id": "c56dcef6-c7b2-4531-b6c8-e8d9ea344bbb",
   "metadata": {},
   "outputs": [
    {
     "data": {
      "text/plain": [
       "(432, 768, 3)"
      ]
     },
     "execution_count": 4,
     "metadata": {},
     "output_type": "execute_result"
    }
   ],
   "source": [
    "image.shape"
   ]
  },
  {
   "cell_type": "markdown",
   "id": "3bc352aa-e950-4c6c-a94a-9b1947c4cb3f",
   "metadata": {},
   "source": [
    "## translation ##"
   ]
  },
  {
   "cell_type": "code",
   "execution_count": 4,
   "id": "a972f36d-2005-4f55-a5bd-483150f5da16",
   "metadata": {},
   "outputs": [],
   "source": [
    "tx=-50 # here we give tx value is positive it moves towards right side,negative left side\n",
    "ty=10 # here we give ty value is positive it slidly moves down,negative up\n",
    "t_m=np.array([[1,0,tx],[0,1,ty]],dtype=np.float32)# here we are translating the image\n",
    "t_img=cv2.warpAffine(image,t_m,(768,432))"
   ]
  },
  {
   "cell_type": "code",
   "execution_count": 5,
   "id": "edb16818-0754-40ca-95fc-059361f4beea",
   "metadata": {},
   "outputs": [
    {
     "data": {
      "text/plain": [
       "array([[  1.,   0., -50.],\n",
       "       [  0.,   1.,  10.]], dtype=float32)"
      ]
     },
     "execution_count": 5,
     "metadata": {},
     "output_type": "execute_result"
    }
   ],
   "source": [
    "t_m"
   ]
  },
  {
   "cell_type": "code",
   "execution_count": 13,
   "id": "f8c5574d-4fbb-47d5-a1d7-3fd5b981bf5d",
   "metadata": {},
   "outputs": [],
   "source": [
    "cv2.imshow(\"orginal_image\",image)\n",
    "cv2.imshow(\"translation_image\",t_img)\n",
    "cv2.waitKey()\n",
    "cv2.destroyAllWindows()"
   ]
  },
  {
   "cell_type": "code",
   "execution_count": 6,
   "id": "a9317f09-d118-48ef-a18e-ded71c185dee",
   "metadata": {},
   "outputs": [],
   "source": [
    "tx=50\n",
    "ty=0\n",
    "t_m=np.array([[1,0,tx],[0,1,ty]],dtype=np.float32)\n",
    "t_img=cv2.warpAffine(image,t_m,(768,432),borderMode=cv2.BORDER_CONSTANT,borderValue=(0,0,255))"
   ]
  },
  {
   "cell_type": "code",
   "execution_count": null,
   "id": "c4efee81-e027-4902-9969-3f113d37d6ae",
   "metadata": {},
   "outputs": [],
   "source": [
    "cv2.imshow(\"orginal_image\",image)\n",
    "cv2.imshow(\"translation_image\",t_img)\n",
    "cv2.waitKey()\n",
    "cv2.destroyAllWindows()"
   ]
  },
  {
   "cell_type": "code",
   "execution_count": null,
   "id": "6bfa4ebd-91eb-4c87-ab57-4b87f13a8278",
   "metadata": {},
   "outputs": [],
   "source": [
    "tx=50\n",
    "ty=0\n",
    "t_m=np.array([[1,0,tx],[0,1,ty]],dtype=np.float32)\n",
    "t_img=cv2.warpAffine(image,t_m,(768,432),borderMode=cv2.BORDER_REFLECT)\n"
   ]
  },
  {
   "cell_type": "code",
   "execution_count": null,
   "id": "5606234a-8881-4e72-881d-305a140b8e10",
   "metadata": {},
   "outputs": [],
   "source": [
    "cv2.imshow(\"orginal_image\",image)\n",
    "cv2.imshow(\"translation_image\",t_img)\n",
    "cv2.waitKey()\n",
    "cv2.destroyAllWindows()"
   ]
  },
  {
   "cell_type": "markdown",
   "id": "4fe31a54-c3e8-4049-9e22-318a511f2cc5",
   "metadata": {},
   "source": [
    "## rotation"
   ]
  },
  {
   "cell_type": "code",
   "execution_count": 3,
   "id": "dfe4fdd6-c118-4b5a-830b-a5b123c1061d",
   "metadata": {},
   "outputs": [],
   "source": [
    "image1=cv2.imread(r\"C:\\Users\\DELL\\Downloads\\pikachu.jpg\")"
   ]
  },
  {
   "cell_type": "code",
   "execution_count": 4,
   "id": "a7b7dd62-46fe-4512-9ffb-870a78951fe8",
   "metadata": {},
   "outputs": [
    {
     "data": {
      "text/plain": [
       "(225, 225, 3)"
      ]
     },
     "execution_count": 4,
     "metadata": {},
     "output_type": "execute_result"
    }
   ],
   "source": [
    "image1.shape"
   ]
  },
  {
   "cell_type": "code",
   "execution_count": 5,
   "id": "0ed29a49-727e-4cd1-91b2-3e4ff1a3e119",
   "metadata": {},
   "outputs": [
    {
     "data": {
      "text/plain": [
       "112"
      ]
     },
     "execution_count": 5,
     "metadata": {},
     "output_type": "execute_result"
    }
   ],
   "source": [
    "225//2"
   ]
  },
  {
   "cell_type": "code",
   "execution_count": 6,
   "id": "a3af3a61-745f-415f-ae78-8f7a1c066b5c",
   "metadata": {},
   "outputs": [],
   "source": [
    "r_m=cv2.getRotationMatrix2D((112,112),90,1)\n"
   ]
  },
  {
   "cell_type": "code",
   "execution_count": 7,
   "id": "b71e43ca-9b79-498d-8bdf-1f9d561cbc12",
   "metadata": {},
   "outputs": [
    {
     "data": {
      "text/plain": [
       "array([[ 6.12323400e-17,  1.00000000e+00, -1.42108547e-14],\n",
       "       [-1.00000000e+00,  6.12323400e-17,  2.24000000e+02]])"
      ]
     },
     "execution_count": 7,
     "metadata": {},
     "output_type": "execute_result"
    }
   ],
   "source": [
    "r_m"
   ]
  },
  {
   "cell_type": "code",
   "execution_count": 16,
   "id": "3e59e07f-91c9-4121-883a-2401c9341e5c",
   "metadata": {},
   "outputs": [],
   "source": [
    "r_image1=cv2.warpAffine(image1,r_m,(225,225))\n"
   ]
  },
  {
   "cell_type": "code",
   "execution_count": 17,
   "id": "ec827a7a-b03f-41cd-918f-c0706797ecfb",
   "metadata": {},
   "outputs": [],
   "source": [
    "cv2.imshow(\"orginal_image\",image1)\n",
    "cv2.imshow(\"rotational_image\",r_image1)\n",
    "cv2.waitKey()\n",
    "cv2.destroyAllWindows()"
   ]
  },
  {
   "cell_type": "code",
   "execution_count": 8,
   "id": "ac1e5e12-434d-4c52-8c9b-8cca62b2b054",
   "metadata": {},
   "outputs": [],
   "source": [
    "r_image1=cv2.warpAffine(image1,r_m,(225,225))\n",
    "r_image2=cv2.warpAffine(image1,r_m,(225,225))\n",
    "r_image3=cv2.warpAffine(image1,r_m,(225,225))"
   ]
  },
  {
   "cell_type": "code",
   "execution_count": 9,
   "id": "208d81ce-8bcc-43f4-b27d-2ee99c7c901e",
   "metadata": {},
   "outputs": [],
   "source": [
    "image1=cv2.rotate(image1,cv2.ROTATE_180)\n",
    "image2=cv2.rotate(image1,cv2.ROTATE_90_CLOCKWISE)\n",
    "image3=cv2.rotate(image1,cv2.ROTATE_90_COUNTERCLOCKWISE)\n"
   ]
  },
  {
   "cell_type": "code",
   "execution_count": 10,
   "id": "3500ad26-edf3-46a9-bbe3-d9beadc8fbb9",
   "metadata": {},
   "outputs": [],
   "source": [
    "cv2.imshow(\"orginal_image\",image1)\n",
    "cv2.imshow(\"rotational_image1\",r_image1)\n",
    "cv2.imshow(\"rotational_image2\",r_image2)\n",
    "cv2.imshow(\"rotational_image2\",r_image3)\n",
    "cv2.waitKey()\n",
    "cv2.destroyAllWindows()"
   ]
  },
  {
   "cell_type": "markdown",
   "id": "cf8cbb3e-41f5-4111-a172-5e0fce25d841",
   "metadata": {},
   "source": [
    "## scaling"
   ]
  },
  {
   "cell_type": "code",
   "execution_count": 13,
   "id": "4fc950fe-3a23-4c1c-bf9e-ed14446750d1",
   "metadata": {},
   "outputs": [],
   "source": [
    "image=cv2.imread(r\"C:\\Users\\DELL\\Downloads\\pikachu.jpg\")"
   ]
  },
  {
   "cell_type": "code",
   "execution_count": 14,
   "id": "34d92797-9576-4b04-a6e0-433c02aadcd8",
   "metadata": {},
   "outputs": [
    {
     "data": {
      "text/plain": [
       "(225, 225, 3)"
      ]
     },
     "execution_count": 14,
     "metadata": {},
     "output_type": "execute_result"
    }
   ],
   "source": [
    "image.shape"
   ]
  },
  {
   "cell_type": "code",
   "execution_count": 19,
   "id": "65e6308a-eb09-4e2b-ae89-90ea658e4f21",
   "metadata": {},
   "outputs": [],
   "source": [
    "sx=3\n",
    "sy=1\n",
    "tx=0\n",
    "ty=0\n",
    "sc_m=np.array([[sx,0,tx],[0,sy,ty]],dtype=np.float32)"
   ]
  },
  {
   "cell_type": "code",
   "execution_count": 16,
   "id": "d8fd46ad-6240-4e03-86e2-425ae2a3fb1d",
   "metadata": {},
   "outputs": [
    {
     "data": {
      "text/plain": [
       "array([[3., 0., 0.],\n",
       "       [0., 0., 0.]], dtype=float32)"
      ]
     },
     "execution_count": 16,
     "metadata": {},
     "output_type": "execute_result"
    }
   ],
   "source": [
    "sc_m"
   ]
  },
  {
   "cell_type": "code",
   "execution_count": 20,
   "id": "a4fcf150-b73a-4236-aa90-37741628491f",
   "metadata": {},
   "outputs": [],
   "source": [
    "scl_img=cv2.warpAffine(image,sc_m,(225,225))\n",
    "cv2.imshow(\"orginal_image\",image)\n",
    "cv2.imshow(\"scaling_image\",scl_img)\n",
    "cv2.waitKey()\n",
    "cv2.destroyAllWindows()\n"
   ]
  },
  {
   "cell_type": "markdown",
   "id": "57a36beb-532f-4dd3-93f7-6099d10a0857",
   "metadata": {},
   "source": [
    "## defailt parameters"
   ]
  },
  {
   "cell_type": "code",
   "execution_count": 23,
   "id": "88cb7abd-ea1a-4ca9-bac6-6fc255d399bc",
   "metadata": {},
   "outputs": [],
   "source": [
    "zoom_in=cv2.pyrDown(image)\n",
    "zoom_out=cv2.pyrUp(image)"
   ]
  },
  {
   "cell_type": "code",
   "execution_count": 24,
   "id": "3ca8f40d-104b-406c-9e1e-be921aed48d0",
   "metadata": {},
   "outputs": [],
   "source": [
    "cv2.imshow(\"orginal_image\",zoom_in)\n",
    "cv2.imshow(\"scaling_image\",zoom_out)\n",
    "cv2.waitKey()\n",
    "cv2.destroyAllWindows()"
   ]
  },
  {
   "cell_type": "markdown",
   "id": "a05a3043-94be-444b-bbbb-e6e4d27830a6",
   "metadata": {},
   "source": [
    "## sheering"
   ]
  },
  {
   "cell_type": "code",
   "execution_count": 25,
   "id": "1c57592d-1383-4649-a40b-c0fccd7001d4",
   "metadata": {},
   "outputs": [],
   "source": [
    "shx=1\n",
    "shy=0\n",
    "tx=0\n",
    "ty=0\n",
    "sh_m=np.array([[1,shx,tx],[shy,1,ty]],dtype=np.float32)"
   ]
  },
  {
   "cell_type": "code",
   "execution_count": 26,
   "id": "9f98b0e4-5150-4221-a69b-fcb7abe68cdc",
   "metadata": {},
   "outputs": [],
   "source": [
    "shm_img=cv2.warpAffine(image,sh_m,(225,225))\n",
    "cv2.imshow(\"orginal_image\",image)\n",
    "cv2.imshow(\"scaling_image\",shm_img)\n",
    "cv2.waitKey()\n",
    "cv2.destroyAllWindows()\n"
   ]
  },
  {
   "cell_type": "markdown",
   "id": "babd1afb-4527-42db-9d6e-ffcd8b199b32",
   "metadata": {},
   "source": [
    "## cropping"
   ]
  },
  {
   "cell_type": "code",
   "execution_count": 2,
   "id": "8b766bc1-038f-47cd-bd4e-b6b823964d2b",
   "metadata": {},
   "outputs": [],
   "source": [
    "image=cv2.imread(r\"C:\\Users\\DELL\\Downloads\\pikachu.jpg\")"
   ]
  },
  {
   "cell_type": "code",
   "execution_count": 3,
   "id": "d3bfe507-9e30-488c-8602-168082c0e8c9",
   "metadata": {},
   "outputs": [],
   "source": [
    "cr_img=image[10:90,15:100]"
   ]
  },
  {
   "cell_type": "code",
   "execution_count": 4,
   "id": "e5c5d1fe-6e64-463d-af86-0d258f8bded1",
   "metadata": {},
   "outputs": [],
   "source": [
    "cv2.imshow(\"orginal_image\",image)\n",
    "cv2.imshow(\"cropping_img\",cr_img)\n",
    "cv2.waitKey()\n",
    "cv2.destroyAllWindows()"
   ]
  },
  {
   "cell_type": "code",
   "execution_count": null,
   "id": "a7c1eec6-d825-4adb-8e32-9e7e856b320f",
   "metadata": {},
   "outputs": [],
   "source": []
  }
 ],
 "metadata": {
  "kernelspec": {
   "display_name": "Python 3 (ipykernel)",
   "language": "python",
   "name": "python3"
  },
  "language_info": {
   "codemirror_mode": {
    "name": "ipython",
    "version": 3
   },
   "file_extension": ".py",
   "mimetype": "text/x-python",
   "name": "python",
   "nbconvert_exporter": "python",
   "pygments_lexer": "ipython3",
   "version": "3.12.4"
  }
 },
 "nbformat": 4,
 "nbformat_minor": 5
}
